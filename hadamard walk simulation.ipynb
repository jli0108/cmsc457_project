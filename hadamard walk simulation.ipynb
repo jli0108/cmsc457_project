{
 "cells": [
  {
   "cell_type": "markdown",
   "id": "contemporary-links",
   "metadata": {},
   "source": [
    "# Simulating a Quantum Random Walk\n",
    "\n",
    "Code implementation of a Hadamard walk using Qiskit"
   ]
  },
  {
   "cell_type": "code",
   "execution_count": 1,
   "id": "photographic-zoning",
   "metadata": {},
   "outputs": [],
   "source": [
    "import numpy as np\n",
    "from qiskit import(\n",
    "    QuantumCircuit,\n",
    "    execute,\n",
    "    Aer)\n",
    "from qiskit.visualization import plot_histogram\n",
    "from matplotlib import pyplot as plt \n",
    "\n",
    "# Use Aer's qasm_simulator\n",
    "simulator = Aer.get_backend('qasm_simulator')"
   ]
  },
  {
   "cell_type": "markdown",
   "id": "sensitive-denver",
   "metadata": {},
   "source": [
    "## Simulation Parameters\n",
    "\n",
    "- Set `n` to be the number of bits used to represent the state.\n",
    "- Set the boolean `make_symmetric` to set whether or not we should start with the state $|00\\rangle$ (`False`) or $\\frac{1}{\\sqrt{2}}\\left(|0\\rangle+i |1\\rangle\\right)\\otimes |0\\rangle$ (`True`). As we discuss in our report, this causes a skewed or symmetric distribution.\n",
    "- Set `num_steps` to be the number of steps in the walk. If this exceeds $2^{n-1}-1$, it will be set to this value instead."
   ]
  },
  {
   "cell_type": "code",
   "execution_count": 2,
   "id": "greater-means",
   "metadata": {},
   "outputs": [],
   "source": [
    "n = 7 # number of bits for state\n",
    "\n",
    "# note: starts to take a while for n>5\n",
    "num_qubits = n + 1 # 1 additional bit for coin flip\n",
    "\n",
    "make_symmetric = True\n",
    "\n",
    "num_steps = 64"
   ]
  },
  {
   "cell_type": "markdown",
   "id": "sought-textbook",
   "metadata": {},
   "source": [
    "## Increment and Decrement Gates\n",
    "\n",
    "Here we define the increment and decrement translations to be used for the simulation"
   ]
  },
  {
   "cell_type": "code",
   "execution_count": 3,
   "id": "widespread-concrete",
   "metadata": {
    "scrolled": true
   },
   "outputs": [
    {
     "data": {
      "text/html": [
       "<pre style=\"word-wrap: normal;white-space: pre;background: #fff0;line-height: 1.1;font-family: &quot;Courier New&quot;,Courier,monospace\">                                   ┌───┐\n",
       "q_0: ──■────■────■────■────■────■──┤ X ├\n",
       "       │    │    │    │    │  ┌─┴─┐└───┘\n",
       "q_1: ──■────■────■────■────■──┤ X ├─────\n",
       "       │    │    │    │  ┌─┴─┐└───┘     \n",
       "q_2: ──■────■────■────■──┤ X ├──────────\n",
       "       │    │    │  ┌─┴─┐└───┘          \n",
       "q_3: ──■────■────■──┤ X ├───────────────\n",
       "       │    │  ┌─┴─┐└───┘               \n",
       "q_4: ──■────■──┤ X ├────────────────────\n",
       "       │  ┌─┴─┐└───┘                    \n",
       "q_5: ──■──┤ X ├─────────────────────────\n",
       "     ┌─┴─┐└───┘                         \n",
       "q_6: ┤ X ├──────────────────────────────\n",
       "     └───┘                              </pre>"
      ],
      "text/plain": [
       "                                   ┌───┐\n",
       "q_0: ──■────■────■────■────■────■──┤ X ├\n",
       "       │    │    │    │    │  ┌─┴─┐└───┘\n",
       "q_1: ──■────■────■────■────■──┤ X ├─────\n",
       "       │    │    │    │  ┌─┴─┐└───┘     \n",
       "q_2: ──■────■────■────■──┤ X ├──────────\n",
       "       │    │    │  ┌─┴─┐└───┘          \n",
       "q_3: ──■────■────■──┤ X ├───────────────\n",
       "       │    │  ┌─┴─┐└───┘               \n",
       "q_4: ──■────■──┤ X ├────────────────────\n",
       "       │  ┌─┴─┐└───┘                    \n",
       "q_5: ──■──┤ X ├─────────────────────────\n",
       "     ┌─┴─┐└───┘                         \n",
       "q_6: ┤ X ├──────────────────────────────\n",
       "     └───┘                              "
      ]
     },
     "execution_count": 3,
     "metadata": {},
     "output_type": "execute_result"
    }
   ],
   "source": [
    "increment_circuit = QuantumCircuit(n, name='add1')\n",
    "for i in range(n - 1):\n",
    "    increment_circuit.mcx([j for j in range(n - 1 - i)], n - 1 - i)\n",
    "increment_circuit.x(0)\n",
    "\n",
    "increment_circuit.draw()"
   ]
  },
  {
   "cell_type": "code",
   "execution_count": 4,
   "id": "native-congo",
   "metadata": {},
   "outputs": [],
   "source": [
    "increment_gate = increment_circuit.to_gate()\n",
    "controlled_increment_gate = increment_gate.control()"
   ]
  },
  {
   "cell_type": "code",
   "execution_count": 5,
   "id": "whole-sheet",
   "metadata": {},
   "outputs": [
    {
     "data": {
      "text/html": [
       "<pre style=\"word-wrap: normal;white-space: pre;background: #fff0;line-height: 1.1;font-family: &quot;Courier New&quot;,Courier,monospace\">     ┌───┐                              \n",
       "q_0: ┤ X ├──■────■────■────■────■────■──\n",
       "     └───┘┌─┴─┐  │    │    │    │    │  \n",
       "q_1: ─────┤ X ├──■────■────■────■────■──\n",
       "          └───┘┌─┴─┐  │    │    │    │  \n",
       "q_2: ──────────┤ X ├──■────■────■────■──\n",
       "               └───┘┌─┴─┐  │    │    │  \n",
       "q_3: ───────────────┤ X ├──■────■────■──\n",
       "                    └───┘┌─┴─┐  │    │  \n",
       "q_4: ────────────────────┤ X ├──■────■──\n",
       "                         └───┘┌─┴─┐  │  \n",
       "q_5: ─────────────────────────┤ X ├──■──\n",
       "                              └───┘┌─┴─┐\n",
       "q_6: ──────────────────────────────┤ X ├\n",
       "                                   └───┘</pre>"
      ],
      "text/plain": [
       "     ┌───┐                              \n",
       "q_0: ┤ X ├──■────■────■────■────■────■──\n",
       "     └───┘┌─┴─┐  │    │    │    │    │  \n",
       "q_1: ─────┤ X ├──■────■────■────■────■──\n",
       "          └───┘┌─┴─┐  │    │    │    │  \n",
       "q_2: ──────────┤ X ├──■────■────■────■──\n",
       "               └───┘┌─┴─┐  │    │    │  \n",
       "q_3: ───────────────┤ X ├──■────■────■──\n",
       "                    └───┘┌─┴─┐  │    │  \n",
       "q_4: ────────────────────┤ X ├──■────■──\n",
       "                         └───┘┌─┴─┐  │  \n",
       "q_5: ─────────────────────────┤ X ├──■──\n",
       "                              └───┘┌─┴─┐\n",
       "q_6: ──────────────────────────────┤ X ├\n",
       "                                   └───┘"
      ]
     },
     "execution_count": 5,
     "metadata": {},
     "output_type": "execute_result"
    }
   ],
   "source": [
    "decrement_circuit = QuantumCircuit(n, name='sub1')\n",
    "decrement_circuit.x(0)\n",
    "for i in range(n - 1):\n",
    "    decrement_circuit.mcx([j for j in range(i+1)], i+1)\n",
    "\n",
    "decrement_circuit.draw()"
   ]
  },
  {
   "cell_type": "code",
   "execution_count": 6,
   "id": "exposed-treat",
   "metadata": {},
   "outputs": [],
   "source": [
    "decrement_circuit = decrement_circuit.to_gate()\n",
    "controlled_decrement_gate = decrement_circuit.control()"
   ]
  },
  {
   "cell_type": "markdown",
   "id": "flexible-bread",
   "metadata": {},
   "source": [
    "## Create Circuit\n",
    "\n",
    "This code creates the circuit for the walk specified by the parameters above. Uncomment the final line to see a visualization, though this will be large and visually confusing for large `num_steps`."
   ]
  },
  {
   "cell_type": "code",
   "execution_count": 7,
   "id": "returning-behalf",
   "metadata": {},
   "outputs": [],
   "source": [
    "num_steps = min(num_steps, 2**(n-1) - 1)\n",
    "# should only do at most 2^(n-1) - 1 steps (right bound for signed integer)\n",
    "\n",
    "trials = 1000\n",
    "\n",
    "qc = QuantumCircuit(num_qubits, n)\n",
    "\n",
    "# first qubit is coin flip\n",
    "# other qubits are state/position qubits, with one bit for sign (leftmost bit)\n",
    "\n",
    "if make_symmetric:\n",
    "    # for symmetric distribution\n",
    "    qc.h(0)\n",
    "    qc.s(0)\n",
    "\n",
    "for i in range(num_steps):\n",
    "    qc.h(0)\n",
    "    # controlled increment\n",
    "    qc.append(controlled_increment_gate, [j for j in range(num_qubits)])\n",
    "    \n",
    "    \n",
    "    # controlled decrement\n",
    "    qc.x(0)\n",
    "    qc.append(controlled_decrement_gate, [j for j in range(num_qubits)])\n",
    "    qc.x(0)\n",
    "    \n",
    "# qc.draw()"
   ]
  },
  {
   "cell_type": "markdown",
   "id": "prime-gabriel",
   "metadata": {},
   "source": [
    "## Run Simulation\n",
    "\n",
    "Uses the Qiskit Aer simulator to simulate the walk. Prints the probability distribution as well as generates a plot."
   ]
  },
  {
   "cell_type": "code",
   "execution_count": 8,
   "id": "organized-perth",
   "metadata": {},
   "outputs": [
    {
     "name": "stdout",
     "output_type": "stream",
     "text": [
      "\n",
      "Total counts (signed binary representation): {'0000001': 13, '0010001': 14, '0010011': 12, '0010101': 16, '0010111': 8, '0011001': 17, '0011011': 24, '0011101': 21, '0011111': 9, '0100001': 28, '0100011': 9, '0100101': 49, '0100111': 4, '0101001': 66, '0101011': 107, '0101101': 32, '0101111': 2, '0000011': 9, '0110001': 4, '0000101': 7, '1010001': 5, '1010011': 39, '1010101': 88, '1010111': 65, '1011001': 7, '1011011': 55, '1011101': 9, '1011111': 28, '1100001': 20, '1100011': 15, '1100101': 16, '1100111': 9, '1101001': 16, '1101011': 20, '1101101': 10, '1101111': 13, '0000111': 10, '1110001': 9, '1110011': 9, '1110101': 16, '1110111': 11, '1111001': 8, '1111011': 9, '1111101': 9, '1111111': 12, '0001001': 16, '0001011': 8, '0001101': 8, '0001111': 9}\n",
      "\n",
      "States and Probabilities (decimal representation): {1: 0.013, 17: 0.014, 19: 0.012, 21: 0.016, 23: 0.008, 25: 0.017, 27: 0.024, 29: 0.021, 31: 0.009, 33: 0.028, 35: 0.009, 37: 0.049, 39: 0.004, 41: 0.066, 43: 0.107, 45: 0.032, 47: 0.002, 3: 0.009, 49: 0.004, 5: 0.007, -47: 0.005, -45: 0.039, -43: 0.088, -41: 0.065, -39: 0.007, -37: 0.055, -35: 0.009, -33: 0.028, -31: 0.02, -29: 0.015, -27: 0.016, -25: 0.009, -23: 0.016, -21: 0.02, -19: 0.01, -17: 0.013, 7: 0.01, -15: 0.009, -13: 0.009, -11: 0.016, -9: 0.011, -7: 0.008, -5: 0.009, -3: 0.009, -1: 0.012, 9: 0.016, 11: 0.008, 13: 0.008, 15: 0.009}\n"
     ]
    }
   ],
   "source": [
    "# Map the quantum measurement to the classical bits\n",
    "qc.measure([i+1 for i in range(n)], [i for i in range(n)])\n",
    "\n",
    "# Execute the circuit on the qasm simulator\n",
    "job = execute(qc, simulator, shots=trials)\n",
    "\n",
    "# Grab results from the job\n",
    "result = job.result()\n",
    "\n",
    "# Returns counts\n",
    "counts = result.get_counts(qc)\n",
    "print(\"\\nTotal counts (signed binary representation):\", counts)\n",
    "\n",
    "def to_decimal(num):\n",
    "    if num[0]=='0':\n",
    "        return int(num, 2)\n",
    "    else:\n",
    "        return int(num, 2) - (1 << len(num))\n",
    "\n",
    "distribution = {}\n",
    "for x in counts:\n",
    "    distribution[to_decimal(x)] = counts[x]/trials\n",
    "\n",
    "print(\"\\nStates and Probabilities (decimal representation):\", distribution)"
   ]
  },
  {
   "cell_type": "code",
   "execution_count": 9,
   "id": "competitive-terrorism",
   "metadata": {},
   "outputs": [
    {
     "data": {
      "text/plain": [
       "<BarContainer object of 49 artists>"
      ]
     },
     "execution_count": 9,
     "metadata": {},
     "output_type": "execute_result"
    },
    {
     "data": {
      "image/png": "[encoded data removed]",
      "text/plain": [
       "<Figure size 432x288 with 1 Axes>"
      ]
     },
     "metadata": {
      "needs_background": "light"
     },
     "output_type": "display_data"
    }
   ],
   "source": [
    "plt.xlabel(\"State\")\n",
    "if num_steps % 2 == 1:\n",
    "    plt.xticks([2*i+1 for i in range(-(num_steps + 1)//2, (num_steps + 1)//2)])\n",
    "else:\n",
    "    plt.xticks([2*i for i in range(-num_steps//2, num_steps//2+1)])\n",
    "plt.ylabel(\"Probability\")\n",
    "plt.title(\"Simulated Distribution of Hadamard Walk with %s Steps\" % num_steps)\n",
    "plt.bar(list(distribution.keys()), list(distribution.values()))"
   ]
  }
 ],
 "metadata": {
  "kernelspec": {
   "display_name": "Python 3",
   "language": "python",
   "name": "python3"
  },
  "language_info": {
   "codemirror_mode": {
    "name": "ipython",
    "version": 3
   },
   "file_extension": ".py",
   "mimetype": "text/x-python",
   "name": "python",
   "nbconvert_exporter": "python",
   "pygments_lexer": "ipython3",
   "version": "3.7.8"
  }
 },
 "nbformat": 4,
 "nbformat_minor": 5
}
