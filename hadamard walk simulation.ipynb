{
 "cells": [
  {
   "cell_type": "code",
   "execution_count": 15,
   "id": "photographic-zoning",
   "metadata": {},
   "outputs": [],
   "source": [
    "import numpy as np\n",
    "from qiskit import(\n",
    "  QuantumCircuit,\n",
    "  execute,\n",
    "  Aer)\n",
    "from qiskit.visualization import plot_histogram\n",
    "from matplotlib import pyplot as plt \n",
    "# Use Aer's qasm_simulator\n",
    "simulator = Aer.get_backend('qasm_simulator')"
   ]
  },
  {
   "cell_type": "code",
   "execution_count": 21,
   "id": "greater-means",
   "metadata": {},
   "outputs": [],
   "source": [
    "n = 5 # number of bits for state\n",
    "# note: starts to take a while for n>5\n",
    "num_qubits = n + 1 # 1 additional bit for coin flip\n"
   ]
  },
  {
   "cell_type": "code",
   "execution_count": 22,
   "id": "widespread-concrete",
   "metadata": {
    "scrolled": true
   },
   "outputs": [],
   "source": [
    "increment_circuit = QuantumCircuit(n, name='add1')\n",
    "for i in range(n - 1):\n",
    "    increment_circuit.mcx([j for j in range(n - 1 - i)], n - 1 - i)\n",
    "increment_circuit.x(0)\n",
    "\n",
    "# increment_circuit.draw()\n",
    "\n",
    "increment_gate = increment_circuit.to_gate()\n",
    "controlled_increment_gate = increment_gate.control()"
   ]
  },
  {
   "cell_type": "code",
   "execution_count": 23,
   "id": "whole-sheet",
   "metadata": {},
   "outputs": [],
   "source": [
    "decrement_circuit = QuantumCircuit(n, name='sub1')\n",
    "decrement_circuit.x(0)\n",
    "for i in range(n - 1):\n",
    "    decrement_circuit.mcx([j for j in range(i+1)], i+1)\n",
    "\n",
    "# decrement_circuit.draw()\n",
    "\n",
    "decrement_circuit = decrement_circuit.to_gate()\n",
    "controlled_decrement_gate = decrement_circuit.control()"
   ]
  },
  {
   "cell_type": "code",
   "execution_count": 38,
   "id": "returning-behalf",
   "metadata": {},
   "outputs": [
    {
     "name": "stdout",
     "output_type": "stream",
     "text": [
      "\n",
      "Total counts (signed binary representation): {'00001': 53, '10111': 48, '11001': 386, '11011': 105, '11101': 132, '11111': 66, '00011': 33, '00101': 36, '00111': 98, '01001': 42, '01011': 1}\n",
      "\n",
      "States and Probabilities (decimal representation): {1: 0.053, -9: 0.048, -7: 0.386, -5: 0.105, -3: 0.132, -1: 0.066, 3: 0.033, 5: 0.036, 7: 0.098, 9: 0.042, 11: 0.001}\n"
     ]
    }
   ],
   "source": [
    "num_steps = min(11, 2**(n-1) - 1)\n",
    "# should only do at most 2^(n-1) - 1 steps (right bound for signed integer)\n",
    "trials = 1000\n",
    "\n",
    "qc = QuantumCircuit(num_qubits, n)\n",
    "\n",
    "# first qubit is coin flip\n",
    "# other qubits are state/position qubits, with one bit for sign (leftmost bit)\n",
    "\n",
    "for i in range(num_steps):\n",
    "    qc.h(0)\n",
    "    # controlled increment\n",
    "    qc.append(controlled_increment_gate, [j for j in range(num_qubits)])\n",
    "    \n",
    "    \n",
    "    # controlled decrement\n",
    "    qc.x(0)\n",
    "    qc.append(controlled_decrement_gate, [j for j in range(num_qubits)])\n",
    "    qc.x(0)\n",
    "    \n",
    "qc.draw()\n",
    "\n",
    "# Map the quantum measurement to the classical bits\n",
    "qc.measure([i+1 for i in range(n)], [i for i in range(n)])\n",
    "\n",
    "# Execute the circuit on the qasm simulator\n",
    "job = execute(qc, simulator, shots=trials)\n",
    "\n",
    "# Grab results from the job\n",
    "result = job.result()\n",
    "\n",
    "# Returns counts\n",
    "counts = result.get_counts(qc)\n",
    "print(\"\\nTotal counts (signed binary representation):\", counts)\n",
    "\n",
    "def to_decimal(num):\n",
    "    if num[0]=='0':\n",
    "        return int(num, 2)\n",
    "    else:\n",
    "        return int(num, 2) - (1 << len(num))\n",
    "\n",
    "distribution = {}\n",
    "for x in counts:\n",
    "    distribution[to_decimal(x)] = counts[x]/trials\n",
    "\n",
    "print(\"\\nStates and Probabilities (decimal representation):\", distribution)"
   ]
  },
  {
   "cell_type": "code",
   "execution_count": 40,
   "id": "competitive-terrorism",
   "metadata": {
    "scrolled": true
   },
   "outputs": [
    {
     "data": {
      "text/plain": [
       "Text(0, 0.5, 'Probability')"
      ]
     },
     "execution_count": 40,
     "metadata": {},
     "output_type": "execute_result"
    },
    {
     "data": {
      "image/png": "[encoded data removed]",
      "text/plain": [
       "<Figure size 432x288 with 1 Axes>"
      ]
     },
     "metadata": {
      "needs_background": "light"
     },
     "output_type": "display_data"
    }
   ],
   "source": [
    "plt.bar(list(distribution.keys()), list(distribution.values()))\n",
    "plt.title(\"Simulated Distribution of Hadamard Walk with %s Steps\" % num_steps)\n",
    "plt.xlabel(\"State\")\n",
    "if num_steps % 2 == 1:\n",
    "    plt.xticks([2*i+1 for i in range(-(num_steps + 1)//2, (num_steps + 1)//2)])\n",
    "else:\n",
    "    plt.xticks([2*i for i in range(-num_steps//2, num_steps//2+1)])\n",
    "plt.ylabel(\"Probability\")\n"
   ]
  },
  {
   "cell_type": "code",
   "execution_count": null,
   "id": "statutory-hartford",
   "metadata": {},
   "outputs": [],
   "source": []
  }
 ],
 "metadata": {
  "kernelspec": {
   "display_name": "Python 3",
   "language": "python",
   "name": "python3"
  },
  "language_info": {
   "codemirror_mode": {
    "name": "ipython",
    "version": 3
   },
   "file_extension": ".py",
   "mimetype": "text/x-python",
   "name": "python",
   "nbconvert_exporter": "python",
   "pygments_lexer": "ipython3",
   "version": "3.9.1"
  }
 },
 "nbformat": 4,
 "nbformat_minor": 5
}
