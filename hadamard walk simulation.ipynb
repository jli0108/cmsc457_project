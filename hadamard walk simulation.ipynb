{
 "cells": [
  {
   "cell_type": "code",
   "execution_count": 78,
   "id": "photographic-zoning",
   "metadata": {},
   "outputs": [],
   "source": [
    "import numpy as np\n",
    "from qiskit import(\n",
    "  QuantumCircuit,\n",
    "  execute,\n",
    "  Aer)\n",
    "from qiskit.visualization import plot_histogram\n",
    "\n",
    "# Use Aer's qasm_simulator\n",
    "simulator = Aer.get_backend('qasm_simulator')"
   ]
  },
  {
   "cell_type": "code",
   "execution_count": 79,
   "id": "dated-power",
   "metadata": {},
   "outputs": [],
   "source": [
    "n = 3 # state\n",
    "num_qubits = n + 1\n"
   ]
  },
  {
   "cell_type": "code",
   "execution_count": 80,
   "id": "mental-district",
   "metadata": {
    "scrolled": true
   },
   "outputs": [],
   "source": [
    "increment_circuit = QuantumCircuit(n, name='add1')\n",
    "for i in range(n - 1):\n",
    "    increment_circuit.mcx([j for j in range(n - 1 - i)], n - 1 - i)\n",
    "increment_circuit.x(0)\n",
    "\n",
    "# increment_circuit.draw()\n",
    "\n",
    "increment_gate = increment_circuit.to_gate()\n",
    "controlled_increment_gate = increment_gate.control()"
   ]
  },
  {
   "cell_type": "code",
   "execution_count": 81,
   "id": "genetic-launch",
   "metadata": {},
   "outputs": [],
   "source": [
    "decrement_circuit = QuantumCircuit(n, name='sub1')\n",
    "decrement_circuit.x(0)\n",
    "for i in range(n - 1):\n",
    "    decrement_circuit.mcx([j for j in range(i+1)], i+1)\n",
    "\n",
    "# decrement_circuit.draw()\n",
    "\n",
    "decrement_circuit = decrement_circuit.to_gate()\n",
    "controlled_decrement_gate = decrement_circuit.control()"
   ]
  },
  {
   "cell_type": "code",
   "execution_count": 120,
   "id": "returning-behalf",
   "metadata": {},
   "outputs": [
    {
     "name": "stdout",
     "output_type": "stream",
     "text": [
      "\n",
      "Total counts (signed binary rep): {'001': 138, '011': 136, '101': 108, '111': 618}\n",
      "\n",
      "States and Probabilities (decimal): {1: 0.138, 3: 0.136, -3: 0.108, -1: 0.618}\n"
     ]
    }
   ],
   "source": [
    "num_steps = 3\n",
    "# should only do at most 2^n - 1 steps (right bound for signed integer)\n",
    "trials = 1000\n",
    "\n",
    "qc = QuantumCircuit(num_qubits, n)\n",
    "\n",
    "# first qubit is coin flip\n",
    "# other qubits are state/position qubits, with one bit for sign (leftmost bit)\n",
    "\n",
    "for i in range(num_steps):\n",
    "    qc.h(0)\n",
    "    # controlled increment\n",
    "    qc.append(controlled_increment_gate, [0,1,2,3])\n",
    "    \n",
    "    \n",
    "    # controlled decrement\n",
    "    qc.x(0)\n",
    "    qc.append(controlled_decrement_gate, [0,1,2,3])\n",
    "    qc.x(0)\n",
    "    \n",
    "qc.draw()\n",
    "\n",
    "# Map the quantum measurement to the classical bits\n",
    "qc.measure([i+1 for i in range(n)], [i for i in range(n)])\n",
    "\n",
    "# Execute the circuit on the qasm simulator\n",
    "job = execute(qc, simulator, shots=trials)\n",
    "\n",
    "# Grab results from the job\n",
    "result = job.result()\n",
    "\n",
    "# Returns counts\n",
    "counts = result.get_counts(qc)\n",
    "print(\"\\nTotal counts (signed binary rep):\", counts)\n",
    "\n",
    "def to_decimal(num):\n",
    "    if num[0]=='0':\n",
    "        return int(num, 2)\n",
    "    else:\n",
    "        return int(num, 2) - (1 << len(num))\n",
    "\n",
    "measurements = {}\n",
    "for x in counts:\n",
    "    measurements[to_decimal(x)] = counts[x]/trials\n",
    "    \n",
    "print(\"\\nStates and Probabilities (decimal):\", measurements)"
   ]
  },
  {
   "cell_type": "code",
   "execution_count": 108,
   "id": "numerous-albert",
   "metadata": {},
   "outputs": [
    {
     "data": {
      "text/plain": [
       "-1"
      ]
     },
     "execution_count": 108,
     "metadata": {},
     "output_type": "execute_result"
    }
   ],
   "source": [
    "def twos(val_str, bytes):\n",
    "    import sys\n",
    "    val = int(val_str, 2)\n",
    "    b = val.to_bytes(bytes, byteorder=sys.byteorder, signed=False)                                                          \n",
    "    return int.from_bytes(b, byteorder=sys.byteorder, signed=True)\n",
    "\n",
    "twos('11111111', 1)"
   ]
  },
  {
   "cell_type": "code",
   "execution_count": null,
   "id": "bacterial-pattern",
   "metadata": {},
   "outputs": [],
   "source": []
  }
 ],
 "metadata": {
  "kernelspec": {
   "display_name": "Python 3",
   "language": "python",
   "name": "python3"
  },
  "language_info": {
   "codemirror_mode": {
    "name": "ipython",
    "version": 3
   },
   "file_extension": ".py",
   "mimetype": "text/x-python",
   "name": "python",
   "nbconvert_exporter": "python",
   "pygments_lexer": "ipython3",
   "version": "3.9.1"
  }
 },
 "nbformat": 4,
 "nbformat_minor": 5
}
