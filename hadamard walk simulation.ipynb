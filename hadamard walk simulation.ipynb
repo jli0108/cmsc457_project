{
 "cells": [
  {
   "cell_type": "markdown",
   "id": "contemporary-links",
   "metadata": {},
   "source": [
    "# Simulating a Quantum Random Walk\n",
    "\n",
    "Code implementation of a Hadamard walk using Qiskit"
   ]
  },
  {
   "cell_type": "code",
   "execution_count": 5,
   "id": "photographic-zoning",
   "metadata": {},
   "outputs": [],
   "source": [
    "import numpy as np\n",
    "from qiskit import(\n",
    "    QuantumCircuit,\n",
    "    execute,\n",
    "    Aer)\n",
    "from qiskit.visualization import plot_histogram\n",
    "from matplotlib import pyplot as plt \n",
    "\n",
    "# Use Aer's qasm_simulator\n",
    "simulator = Aer.get_backend('qasm_simulator')"
   ]
  },
  {
   "cell_type": "markdown",
   "id": "sensitive-denver",
   "metadata": {},
   "source": [
    "## Simulation Parameters\n",
    "\n",
    "- Set `n` to be the number of bits used to represent the state.\n",
    "- Set the boolean `make_symmetric` to set whether or not we should start with the state $|0\\rangle\\otimes|0\\rangle$ (`False`) or $\\frac{1}{\\sqrt{2}}\\left(|0\\rangle+i |1\\rangle\\right)\\otimes |0\\rangle$ (`True`). As we discuss in our report, this causes a skewed or symmetric distribution.\n",
    "- Set `num_steps` to be the number of steps in the walk. If this exceeds $2^{n-1}-1$, it will be set to this value instead."
   ]
  },
  {
   "cell_type": "code",
   "execution_count": 6,
   "id": "greater-means",
   "metadata": {},
   "outputs": [],
   "source": [
    "n = 8 # number of bits for state\n",
    "\n",
    "# note: starts to take a while for n>5\n",
    "num_qubits = n + 1 # 1 additional bit for coin flip\n",
    "\n",
    "make_symmetric = True\n",
    "\n",
    "num_steps = 64"
   ]
  },
  {
   "cell_type": "markdown",
   "id": "sought-textbook",
   "metadata": {},
   "source": [
    "## Increment and Decrement Gates\n",
    "\n",
    "Here we define the increment and decrement translations to be used for the simulation"
   ]
  },
  {
   "cell_type": "code",
   "execution_count": 7,
   "id": "widespread-concrete",
   "metadata": {
    "scrolled": true
   },
   "outputs": [
    {
     "data": {
      "text/html": [
       "<pre style=\"word-wrap: normal;white-space: pre;background: #fff0;line-height: 1.1;font-family: &quot;Courier New&quot;,Courier,monospace\">                                        ┌───┐\n",
       "q_0: ──■────■────■────■────■────■────■──┤ X ├\n",
       "       │    │    │    │    │    │  ┌─┴─┐└───┘\n",
       "q_1: ──■────■────■────■────■────■──┤ X ├─────\n",
       "       │    │    │    │    │  ┌─┴─┐└───┘     \n",
       "q_2: ──■────■────■────■────■──┤ X ├──────────\n",
       "       │    │    │    │  ┌─┴─┐└───┘          \n",
       "q_3: ──■────■────■────■──┤ X ├───────────────\n",
       "       │    │    │  ┌─┴─┐└───┘               \n",
       "q_4: ──■────■────■──┤ X ├────────────────────\n",
       "       │    │  ┌─┴─┐└───┘                    \n",
       "q_5: ──■────■──┤ X ├─────────────────────────\n",
       "       │  ┌─┴─┐└───┘                         \n",
       "q_6: ──■──┤ X ├──────────────────────────────\n",
       "     ┌─┴─┐└───┘                              \n",
       "q_7: ┤ X ├───────────────────────────────────\n",
       "     └───┘                                   </pre>"
      ],
      "text/plain": [
       "                                        ┌───┐\n",
       "q_0: ──■────■────■────■────■────■────■──┤ X ├\n",
       "       │    │    │    │    │    │  ┌─┴─┐└───┘\n",
       "q_1: ──■────■────■────■────■────■──┤ X ├─────\n",
       "       │    │    │    │    │  ┌─┴─┐└───┘     \n",
       "q_2: ──■────■────■────■────■──┤ X ├──────────\n",
       "       │    │    │    │  ┌─┴─┐└───┘          \n",
       "q_3: ──■────■────■────■──┤ X ├───────────────\n",
       "       │    │    │  ┌─┴─┐└───┘               \n",
       "q_4: ──■────■────■──┤ X ├────────────────────\n",
       "       │    │  ┌─┴─┐└───┘                    \n",
       "q_5: ──■────■──┤ X ├─────────────────────────\n",
       "       │  ┌─┴─┐└───┘                         \n",
       "q_6: ──■──┤ X ├──────────────────────────────\n",
       "     ┌─┴─┐└───┘                              \n",
       "q_7: ┤ X ├───────────────────────────────────\n",
       "     └───┘                                   "
      ]
     },
     "execution_count": 7,
     "metadata": {},
     "output_type": "execute_result"
    }
   ],
   "source": [
    "increment_circuit = QuantumCircuit(n, name='add1')\n",
    "for i in range(n - 1):\n",
    "    increment_circuit.mcx([j for j in range(n - 1 - i)], n - 1 - i)\n",
    "increment_circuit.x(0)\n",
    "\n",
    "increment_circuit.draw()"
   ]
  },
  {
   "cell_type": "code",
   "execution_count": 8,
   "id": "native-congo",
   "metadata": {},
   "outputs": [],
   "source": [
    "increment_gate = increment_circuit.to_gate()\n",
    "controlled_increment_gate = increment_gate.control()"
   ]
  },
  {
   "cell_type": "code",
   "execution_count": 9,
   "id": "whole-sheet",
   "metadata": {},
   "outputs": [
    {
     "data": {
      "text/html": [
       "<pre style=\"word-wrap: normal;white-space: pre;background: #fff0;line-height: 1.1;font-family: &quot;Courier New&quot;,Courier,monospace\">     ┌───┐                                   \n",
       "q_0: ┤ X ├──■────■────■────■────■────■────■──\n",
       "     └───┘┌─┴─┐  │    │    │    │    │    │  \n",
       "q_1: ─────┤ X ├──■────■────■────■────■────■──\n",
       "          └───┘┌─┴─┐  │    │    │    │    │  \n",
       "q_2: ──────────┤ X ├──■────■────■────■────■──\n",
       "               └───┘┌─┴─┐  │    │    │    │  \n",
       "q_3: ───────────────┤ X ├──■────■────■────■──\n",
       "                    └───┘┌─┴─┐  │    │    │  \n",
       "q_4: ────────────────────┤ X ├──■────■────■──\n",
       "                         └───┘┌─┴─┐  │    │  \n",
       "q_5: ─────────────────────────┤ X ├──■────■──\n",
       "                              └───┘┌─┴─┐  │  \n",
       "q_6: ──────────────────────────────┤ X ├──■──\n",
       "                                   └───┘┌─┴─┐\n",
       "q_7: ───────────────────────────────────┤ X ├\n",
       "                                        └───┘</pre>"
      ],
      "text/plain": [
       "     ┌───┐                                   \n",
       "q_0: ┤ X ├──■────■────■────■────■────■────■──\n",
       "     └───┘┌─┴─┐  │    │    │    │    │    │  \n",
       "q_1: ─────┤ X ├──■────■────■────■────■────■──\n",
       "          └───┘┌─┴─┐  │    │    │    │    │  \n",
       "q_2: ──────────┤ X ├──■────■────■────■────■──\n",
       "               └───┘┌─┴─┐  │    │    │    │  \n",
       "q_3: ───────────────┤ X ├──■────■────■────■──\n",
       "                    └───┘┌─┴─┐  │    │    │  \n",
       "q_4: ────────────────────┤ X ├──■────■────■──\n",
       "                         └───┘┌─┴─┐  │    │  \n",
       "q_5: ─────────────────────────┤ X ├──■────■──\n",
       "                              └───┘┌─┴─┐  │  \n",
       "q_6: ──────────────────────────────┤ X ├──■──\n",
       "                                   └───┘┌─┴─┐\n",
       "q_7: ───────────────────────────────────┤ X ├\n",
       "                                        └───┘"
      ]
     },
     "execution_count": 9,
     "metadata": {},
     "output_type": "execute_result"
    }
   ],
   "source": [
    "decrement_circuit = QuantumCircuit(n, name='sub1')\n",
    "decrement_circuit.x(0)\n",
    "for i in range(n - 1):\n",
    "    decrement_circuit.mcx([j for j in range(i+1)], i+1)\n",
    "\n",
    "decrement_circuit.draw()"
   ]
  },
  {
   "cell_type": "code",
   "execution_count": 10,
   "id": "exposed-treat",
   "metadata": {},
   "outputs": [],
   "source": [
    "decrement_circuit = decrement_circuit.to_gate()\n",
    "controlled_decrement_gate = decrement_circuit.control()"
   ]
  },
  {
   "cell_type": "markdown",
   "id": "flexible-bread",
   "metadata": {},
   "source": [
    "## Create Circuit\n",
    "\n",
    "This code creates the circuit for the walk specified by the parameters above. Uncomment the final line to see a visualization, though this will be large and visually confusing for large `num_steps`."
   ]
  },
  {
   "cell_type": "code",
   "execution_count": 11,
   "id": "returning-behalf",
   "metadata": {},
   "outputs": [],
   "source": [
    "num_steps = min(num_steps, 2**(n-1) - 1)\n",
    "# should only do at most 2^(n-1) - 1 steps (right bound for signed integer)\n",
    "\n",
    "trials = 10000\n",
    "\n",
    "qc = QuantumCircuit(num_qubits, n)\n",
    "\n",
    "# first qubit is coin flip\n",
    "# other qubits are state/position qubits, with one bit for sign (leftmost bit)\n",
    "\n",
    "if make_symmetric:\n",
    "    # for symmetric distribution\n",
    "    qc.h(0)\n",
    "    qc.s(0)\n",
    "\n",
    "for i in range(num_steps):\n",
    "    qc.h(0)\n",
    "    # controlled increment\n",
    "    qc.append(controlled_increment_gate, [j for j in range(num_qubits)])\n",
    "    \n",
    "    \n",
    "    # controlled decrement\n",
    "    qc.x(0)\n",
    "    qc.append(controlled_decrement_gate, [j for j in range(num_qubits)])\n",
    "    qc.x(0)\n",
    "    \n",
    "# qc.draw()"
   ]
  },
  {
   "cell_type": "markdown",
   "id": "prime-gabriel",
   "metadata": {},
   "source": [
    "## Run Simulation\n",
    "\n",
    "Uses the Qiskit Aer simulator to simulate the walk. Prints the probability distribution as well as generates a plot."
   ]
  },
  {
   "cell_type": "code",
   "execution_count": 12,
   "id": "organized-perth",
   "metadata": {},
   "outputs": [
    {
     "name": "stdout",
     "output_type": "stream",
     "text": [
      "\n",
      "Total counts (signed binary representation): {'00000000': 111, '00010000': 78, '00010010': 94, '00010100': 111, '00010110': 171, '00011000': 125, '00011010': 107, '00011100': 198, '00011110': 191, '00000010': 102, '00100000': 111, '00100010': 331, '00100100': 120, '00100110': 439, '00101000': 93, '00101010': 810, '00101100': 874, '00101110': 311, '00110000': 54, '00110010': 6, '00000100': 107, '00000110': 102, '00001000': 107, '00001010': 104, '00001100': 114, '11001110': 5, '11010000': 59, '11010010': 316, '11010100': 870, '11010110': 773, '11011000': 84, '11011010': 484, '11011100': 110, '11011110': 303, '00001110': 127, '11100000': 89, '11100010': 206, '11100100': 195, '11100110': 100, '11101000': 134, '11101010': 158, '11101100': 120, '11101110': 90, '11110000': 90, '11110010': 115, '11110100': 110, '11110110': 101, '11111000': 101, '11111010': 80, '11111100': 123, '11111110': 86}\n",
      "\n",
      "States and Probabilities (decimal representation): {0: 0.0111, 16: 0.0078, 18: 0.0094, 20: 0.0111, 22: 0.0171, 24: 0.0125, 26: 0.0107, 28: 0.0198, 30: 0.0191, 2: 0.0102, 32: 0.0111, 34: 0.0331, 36: 0.012, 38: 0.0439, 40: 0.0093, 42: 0.081, 44: 0.0874, 46: 0.0311, 48: 0.0054, 50: 0.0006, 4: 0.0107, 6: 0.0102, 8: 0.0107, 10: 0.0104, 12: 0.0114, -50: 0.0005, -48: 0.0059, -46: 0.0316, -44: 0.087, -42: 0.0773, -40: 0.0084, -38: 0.0484, -36: 0.011, -34: 0.0303, 14: 0.0127, -32: 0.0089, -30: 0.0206, -28: 0.0195, -26: 0.01, -24: 0.0134, -22: 0.0158, -20: 0.012, -18: 0.009, -16: 0.009, -14: 0.0115, -12: 0.011, -10: 0.0101, -8: 0.0101, -6: 0.008, -4: 0.0123, -2: 0.0086}\n"
     ]
    }
   ],
   "source": [
    "# Map the quantum measurement to the classical bits\n",
    "qc.measure([i+1 for i in range(n)], [i for i in range(n)])\n",
    "\n",
    "# Execute the circuit on the qasm simulator\n",
    "job = execute(qc, simulator, shots=trials)\n",
    "\n",
    "# Grab results from the job\n",
    "result = job.result()\n",
    "\n",
    "# Returns counts\n",
    "counts = result.get_counts(qc)\n",
    "print(\"\\nTotal counts (signed binary representation):\", counts)\n",
    "\n",
    "def to_decimal(num):\n",
    "    if num[0]=='0':\n",
    "        return int(num, 2)\n",
    "    else:\n",
    "        return int(num, 2) - (1 << len(num))\n",
    "\n",
    "distribution = {}\n",
    "for x in counts:\n",
    "    distribution[to_decimal(x)] = counts[x]/trials\n",
    "\n",
    "print(\"\\nStates and Probabilities (decimal representation):\", distribution)"
   ]
  },
  {
   "cell_type": "code",
   "execution_count": 13,
   "id": "competitive-terrorism",
   "metadata": {},
   "outputs": [
    {
     "data": {
      "text/plain": [
       "<BarContainer object of 51 artists>"
      ]
     },
     "execution_count": 13,
     "metadata": {},
     "output_type": "execute_result"
    },
    {
     "data": {
      "image/png": "[encoded data removed]",
      "text/plain": [
       "<Figure size 432x288 with 1 Axes>"
      ]
     },
     "metadata": {
      "needs_background": "light"
     },
     "output_type": "display_data"
    }
   ],
   "source": [
    "plt.xlabel(\"State\")\n",
    "if num_steps % 2 == 1:\n",
    "    plt.xticks([10*i+1 for i in range(-(num_steps + 1)//10, (num_steps + 1)//10)])\n",
    "else:\n",
    "    plt.xticks([10*i for i in range(-num_steps//10, num_steps//10+1)])\n",
    "plt.ylabel(\"Probability\")\n",
    "plt.title(f\"Simulated Distribution of Hadamard Walk with {num_steps} Steps\")\n",
    "plt.bar(list(distribution.keys()), list(distribution.values()))"
   ]
  },
  {
   "cell_type": "code",
   "execution_count": null,
   "id": "right-belgium",
   "metadata": {},
   "outputs": [],
   "source": []
  }
 ],
 "metadata": {
  "kernelspec": {
   "display_name": "Python 3",
   "language": "python",
   "name": "python3"
  },
  "language_info": {
   "codemirror_mode": {
    "name": "ipython",
    "version": 3
   },
   "file_extension": ".py",
   "mimetype": "text/x-python",
   "name": "python",
   "nbconvert_exporter": "python",
   "pygments_lexer": "ipython3",
   "version": "3.9.1"
  }
 },
 "nbformat": 4,
 "nbformat_minor": 5
}
